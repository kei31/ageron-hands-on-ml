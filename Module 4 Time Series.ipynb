{
 "cells": [
  {
   "cell_type": "markdown",
   "id": "77ddd49e",
   "metadata": {},
   "source": [
    "##### Import"
   ]
  },
  {
   "cell_type": "code",
   "execution_count": null,
   "id": "7886226d",
   "metadata": {},
   "outputs": [],
   "source": []
  },
  {
   "cell_type": "code",
   "execution_count": null,
   "id": "7ec1c859",
   "metadata": {},
   "outputs": [],
   "source": [
    "#Marginal Mean\n",
    "#Marginal Variance\n",
    "#Autocovariance"
   ]
  },
  {
   "cell_type": "markdown",
   "id": "eb1c5a5e",
   "metadata": {},
   "source": []
  },
  {
   "cell_type": "markdown",
   "id": "cffe0cd1",
   "metadata": {},
   "source": [
    "**Weak stationarity**  \n",
    "Same mean and variance for all $X_t$  \n",
    "**Strong Stationarity**  \n",
    "Same distribution"
   ]
  },
  {
   "cell_type": "code",
   "execution_count": null,
   "id": "7dd64e97",
   "metadata": {},
   "outputs": [],
   "source": []
  }
 ],
 "metadata": {
  "kernelspec": {
   "display_name": "Python 3 (ipykernel)",
   "language": "python",
   "name": "python3"
  },
  "language_info": {
   "codemirror_mode": {
    "name": "ipython",
    "version": 3
   },
   "file_extension": ".py",
   "mimetype": "text/x-python",
   "name": "python",
   "nbconvert_exporter": "python",
   "pygments_lexer": "ipython3",
   "version": "3.9.7"
  },
  "toc": {
   "base_numbering": 1,
   "nav_menu": {},
   "number_sections": true,
   "sideBar": true,
   "skip_h1_title": false,
   "title_cell": "Table of Contents",
   "title_sidebar": "Contents",
   "toc_cell": false,
   "toc_position": {},
   "toc_section_display": true,
   "toc_window_display": false
  }
 },
 "nbformat": 4,
 "nbformat_minor": 5
}
